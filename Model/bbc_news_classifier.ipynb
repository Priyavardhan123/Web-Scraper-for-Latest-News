{
 "cells": [
  {
   "cell_type": "code",
   "execution_count": 1,
   "id": "injured-valve",
   "metadata": {},
   "outputs": [],
   "source": [
    "import numpy as np\n",
    "import pandas as pd\n",
    "import matplotlib.pyplot as plt\n",
    "import sklearn\n",
    "import os\n",
    "%matplotlib inline\n"
   ]
  },
  {
   "cell_type": "code",
   "execution_count": 2,
   "id": "impossible-numbers",
   "metadata": {},
   "outputs": [],
   "source": [
    "df = pd.read_csv(\"BBC News Train.csv\")"
   ]
  },
  {
   "cell_type": "code",
   "execution_count": 3,
   "id": "registered-slovenia",
   "metadata": {},
   "outputs": [
    {
     "data": {
      "text/html": [
       "<div>\n",
       "<style scoped>\n",
       "    .dataframe tbody tr th:only-of-type {\n",
       "        vertical-align: middle;\n",
       "    }\n",
       "\n",
       "    .dataframe tbody tr th {\n",
       "        vertical-align: top;\n",
       "    }\n",
       "\n",
       "    .dataframe thead th {\n",
       "        text-align: right;\n",
       "    }\n",
       "</style>\n",
       "<table border=\"1\" class=\"dataframe\">\n",
       "  <thead>\n",
       "    <tr style=\"text-align: right;\">\n",
       "      <th></th>\n",
       "      <th>ArticleId</th>\n",
       "      <th>Text</th>\n",
       "      <th>Category</th>\n",
       "    </tr>\n",
       "  </thead>\n",
       "  <tbody>\n",
       "    <tr>\n",
       "      <th>0</th>\n",
       "      <td>1833</td>\n",
       "      <td>worldcom ex-boss launches defence lawyers defe...</td>\n",
       "      <td>business</td>\n",
       "    </tr>\n",
       "    <tr>\n",
       "      <th>1</th>\n",
       "      <td>154</td>\n",
       "      <td>german business confidence slides german busin...</td>\n",
       "      <td>business</td>\n",
       "    </tr>\n",
       "    <tr>\n",
       "      <th>2</th>\n",
       "      <td>1101</td>\n",
       "      <td>bbc poll indicates economic gloom citizens in ...</td>\n",
       "      <td>business</td>\n",
       "    </tr>\n",
       "    <tr>\n",
       "      <th>3</th>\n",
       "      <td>1976</td>\n",
       "      <td>lifestyle  governs mobile choice  faster  bett...</td>\n",
       "      <td>tech</td>\n",
       "    </tr>\n",
       "    <tr>\n",
       "      <th>4</th>\n",
       "      <td>917</td>\n",
       "      <td>enron bosses in $168m payout eighteen former e...</td>\n",
       "      <td>business</td>\n",
       "    </tr>\n",
       "  </tbody>\n",
       "</table>\n",
       "</div>"
      ],
      "text/plain": [
       "   ArticleId                                               Text  Category\n",
       "0       1833  worldcom ex-boss launches defence lawyers defe...  business\n",
       "1        154  german business confidence slides german busin...  business\n",
       "2       1101  bbc poll indicates economic gloom citizens in ...  business\n",
       "3       1976  lifestyle  governs mobile choice  faster  bett...      tech\n",
       "4        917  enron bosses in $168m payout eighteen former e...  business"
      ]
     },
     "execution_count": 3,
     "metadata": {},
     "output_type": "execute_result"
    }
   ],
   "source": [
    "df.head()"
   ]
  },
  {
   "cell_type": "code",
   "execution_count": 4,
   "id": "medium-sight",
   "metadata": {},
   "outputs": [
    {
     "data": {
      "text/html": [
       "<div>\n",
       "<style scoped>\n",
       "    .dataframe tbody tr th:only-of-type {\n",
       "        vertical-align: middle;\n",
       "    }\n",
       "\n",
       "    .dataframe tbody tr th {\n",
       "        vertical-align: top;\n",
       "    }\n",
       "\n",
       "    .dataframe thead th {\n",
       "        text-align: right;\n",
       "    }\n",
       "</style>\n",
       "<table border=\"1\" class=\"dataframe\">\n",
       "  <thead>\n",
       "    <tr style=\"text-align: right;\">\n",
       "      <th></th>\n",
       "      <th>ArticleId</th>\n",
       "    </tr>\n",
       "  </thead>\n",
       "  <tbody>\n",
       "    <tr>\n",
       "      <th>count</th>\n",
       "      <td>1490.000000</td>\n",
       "    </tr>\n",
       "    <tr>\n",
       "      <th>mean</th>\n",
       "      <td>1119.696644</td>\n",
       "    </tr>\n",
       "    <tr>\n",
       "      <th>std</th>\n",
       "      <td>641.826283</td>\n",
       "    </tr>\n",
       "    <tr>\n",
       "      <th>min</th>\n",
       "      <td>2.000000</td>\n",
       "    </tr>\n",
       "    <tr>\n",
       "      <th>25%</th>\n",
       "      <td>565.250000</td>\n",
       "    </tr>\n",
       "    <tr>\n",
       "      <th>50%</th>\n",
       "      <td>1112.500000</td>\n",
       "    </tr>\n",
       "    <tr>\n",
       "      <th>75%</th>\n",
       "      <td>1680.750000</td>\n",
       "    </tr>\n",
       "    <tr>\n",
       "      <th>max</th>\n",
       "      <td>2224.000000</td>\n",
       "    </tr>\n",
       "  </tbody>\n",
       "</table>\n",
       "</div>"
      ],
      "text/plain": [
       "         ArticleId\n",
       "count  1490.000000\n",
       "mean   1119.696644\n",
       "std     641.826283\n",
       "min       2.000000\n",
       "25%     565.250000\n",
       "50%    1112.500000\n",
       "75%    1680.750000\n",
       "max    2224.000000"
      ]
     },
     "execution_count": 4,
     "metadata": {},
     "output_type": "execute_result"
    }
   ],
   "source": [
    "df.describe()"
   ]
  },
  {
   "cell_type": "code",
   "execution_count": 5,
   "id": "killing-affiliation",
   "metadata": {},
   "outputs": [
    {
     "name": "stdout",
     "output_type": "stream",
     "text": [
      "<class 'pandas.core.frame.DataFrame'>\n",
      "RangeIndex: 1490 entries, 0 to 1489\n",
      "Data columns (total 3 columns):\n",
      " #   Column     Non-Null Count  Dtype \n",
      "---  ------     --------------  ----- \n",
      " 0   ArticleId  1490 non-null   int64 \n",
      " 1   Text       1490 non-null   object\n",
      " 2   Category   1490 non-null   object\n",
      "dtypes: int64(1), object(2)\n",
      "memory usage: 35.0+ KB\n"
     ]
    }
   ],
   "source": [
    "df.info()"
   ]
  },
  {
   "cell_type": "markdown",
   "id": "jewish-anatomy",
   "metadata": {},
   "source": [
    "<b> Assigning category names to the numeric values and storing them in new column so that further calculation can be simpler. For this we will use factorize() method of pandas </b>"
   ]
  },
  {
   "cell_type": "code",
   "execution_count": 6,
   "id": "adjustable-treaty",
   "metadata": {},
   "outputs": [],
   "source": [
    "df['category_id'] = df['Category'].factorize()[0]"
   ]
  },
  {
   "cell_type": "code",
   "execution_count": 7,
   "id": "pending-snake",
   "metadata": {},
   "outputs": [
    {
     "data": {
      "text/plain": [
       "0    0\n",
       "1    0\n",
       "2    0\n",
       "3    1\n",
       "4    0\n",
       "5    2\n",
       "6    3\n",
       "7    4\n",
       "8    0\n",
       "9    4\n",
       "Name: category_id, dtype: int64"
      ]
     },
     "execution_count": 7,
     "metadata": {},
     "output_type": "execute_result"
    }
   ],
   "source": [
    "df['category_id'][0:10]"
   ]
  },
  {
   "cell_type": "markdown",
   "id": "vanilla-saver",
   "metadata": {},
   "source": [
    "<b> Creating a new dataframe which only contains the unique categories along with their category id </b>"
   ]
  },
  {
   "cell_type": "code",
   "execution_count": 9,
   "id": "wooden-herald",
   "metadata": {},
   "outputs": [],
   "source": [
    "unique_category_df = df[['Category','category_id']].drop_duplicates().sort_values('category_id')"
   ]
  },
  {
   "cell_type": "code",
   "execution_count": 10,
   "id": "bulgarian-columbus",
   "metadata": {},
   "outputs": [
    {
     "data": {
      "text/html": [
       "<div>\n",
       "<style scoped>\n",
       "    .dataframe tbody tr th:only-of-type {\n",
       "        vertical-align: middle;\n",
       "    }\n",
       "\n",
       "    .dataframe tbody tr th {\n",
       "        vertical-align: top;\n",
       "    }\n",
       "\n",
       "    .dataframe thead th {\n",
       "        text-align: right;\n",
       "    }\n",
       "</style>\n",
       "<table border=\"1\" class=\"dataframe\">\n",
       "  <thead>\n",
       "    <tr style=\"text-align: right;\">\n",
       "      <th></th>\n",
       "      <th>Category</th>\n",
       "      <th>category_id</th>\n",
       "    </tr>\n",
       "  </thead>\n",
       "  <tbody>\n",
       "    <tr>\n",
       "      <th>0</th>\n",
       "      <td>business</td>\n",
       "      <td>0</td>\n",
       "    </tr>\n",
       "    <tr>\n",
       "      <th>3</th>\n",
       "      <td>tech</td>\n",
       "      <td>1</td>\n",
       "    </tr>\n",
       "    <tr>\n",
       "      <th>5</th>\n",
       "      <td>politics</td>\n",
       "      <td>2</td>\n",
       "    </tr>\n",
       "    <tr>\n",
       "      <th>6</th>\n",
       "      <td>sport</td>\n",
       "      <td>3</td>\n",
       "    </tr>\n",
       "    <tr>\n",
       "      <th>7</th>\n",
       "      <td>entertainment</td>\n",
       "      <td>4</td>\n",
       "    </tr>\n",
       "  </tbody>\n",
       "</table>\n",
       "</div>"
      ],
      "text/plain": [
       "        Category  category_id\n",
       "0       business            0\n",
       "3           tech            1\n",
       "5       politics            2\n",
       "6          sport            3\n",
       "7  entertainment            4"
      ]
     },
     "execution_count": 10,
     "metadata": {},
     "output_type": "execute_result"
    }
   ],
   "source": [
    "unique_category_df"
   ]
  },
  {
   "cell_type": "markdown",
   "id": "recognized-fraud",
   "metadata": {},
   "source": [
    "<b> Creating a dictionary to map category name to the category id and vice versa </b>"
   ]
  },
  {
   "cell_type": "code",
   "execution_count": 11,
   "id": "satisfactory-jerusalem",
   "metadata": {},
   "outputs": [],
   "source": [
    "category_to_id = dict(unique_category_df.values)\n",
    "id_to_category = dict(unique_category_df[['category_id','Category']].values)"
   ]
  },
  {
   "cell_type": "code",
   "execution_count": 12,
   "id": "unnecessary-feelings",
   "metadata": {},
   "outputs": [
    {
     "data": {
      "text/plain": [
       "{'business': 0, 'tech': 1, 'politics': 2, 'sport': 3, 'entertainment': 4}"
      ]
     },
     "execution_count": 12,
     "metadata": {},
     "output_type": "execute_result"
    }
   ],
   "source": [
    "category_to_id"
   ]
  },
  {
   "cell_type": "code",
   "execution_count": 13,
   "id": "agricultural-crystal",
   "metadata": {},
   "outputs": [
    {
     "data": {
      "text/plain": [
       "{0: 'business', 1: 'tech', 2: 'politics', 3: 'sport', 4: 'entertainment'}"
      ]
     },
     "execution_count": 13,
     "metadata": {},
     "output_type": "execute_result"
    }
   ],
   "source": [
    "id_to_category"
   ]
  },
  {
   "cell_type": "markdown",
   "id": "nervous-simon",
   "metadata": {},
   "source": [
    "<b> Counting the no. of articles under each category</b> "
   ]
  },
  {
   "cell_type": "code",
   "execution_count": 14,
   "id": "regulated-finger",
   "metadata": {},
   "outputs": [
    {
     "data": {
      "text/plain": [
       "Category\n",
       "business         336\n",
       "entertainment    273\n",
       "politics         274\n",
       "sport            346\n",
       "tech             261\n",
       "Name: category_id, dtype: int64"
      ]
     },
     "execution_count": 14,
     "metadata": {},
     "output_type": "execute_result"
    }
   ],
   "source": [
    "df.groupby('Category').category_id.count()"
   ]
  },
  {
   "cell_type": "markdown",
   "id": "rising-elephant",
   "metadata": {},
   "source": [
    "<b> Doing exloratory data analysis</b>"
   ]
  },
  {
   "cell_type": "code",
   "execution_count": 17,
   "id": "usual-formula",
   "metadata": {},
   "outputs": [
    {
     "data": {
      "text/plain": [
       "<AxesSubplot:xlabel='Category'>"
      ]
     },
     "execution_count": 17,
     "metadata": {},
     "output_type": "execute_result"
    },
    {
     "data": {
      "image/png": "[encoded data removed]",
      "text/plain": [
       "<Figure size 432x288 with 1 Axes>"
      ]
     },
     "metadata": {
      "needs_background": "light"
     },
     "output_type": "display_data"
    }
   ],
   "source": [
    "df.groupby('Category').category_id.count().plot.bar(ylim = 0 , color = ['blue','orange','green','red','purple'] )"
   ]
  },
  {
   "cell_type": "markdown",
   "id": "aging-progress",
   "metadata": {},
   "source": [
    "<b> Tokenizing our data using TFidfVectorizer</b>"
   ]
  },
  {
   "cell_type": "code",
   "execution_count": 22,
   "id": "australian-conservative",
   "metadata": {
    "scrolled": true
   },
   "outputs": [],
   "source": [
    "from sklearn.feature_extraction.text import TfidfVectorizer\n",
    "\n",
    "tfidf = TfidfVectorizer(encoding = 'latin-1', stop_words = 'english', ngram_range = (1,2), min_df = 5, norm = 'l2', sublinear_tf = True)\n",
    "\n",
    "# Remapping the words in the dataset in the text column of data frames into features(superset of words) with an importance assigned based on each word's frequency in the document \n",
    "features = tfidf.fit_transform(df.Text).toarray()\n",
    "\n",
    "#representing the category of each article\n",
    "labels = df.category_id"
   ]
  },
  {
   "cell_type": "code",
   "execution_count": 23,
   "id": "requested-suspect",
   "metadata": {},
   "outputs": [
    {
     "data": {
      "text/plain": [
       "(1490, 9927)"
      ]
     },
     "execution_count": 23,
     "metadata": {},
     "output_type": "execute_result"
    }
   ],
   "source": [
    "features.shape"
   ]
  },
  {
   "cell_type": "code",
   "execution_count": 24,
   "id": "empty-thumb",
   "metadata": {},
   "outputs": [
    {
     "data": {
      "text/plain": [
       "[('business', 0),\n",
       " ('entertainment', 4),\n",
       " ('politics', 2),\n",
       " ('sport', 3),\n",
       " ('tech', 1)]"
      ]
     },
     "execution_count": 24,
     "metadata": {},
     "output_type": "execute_result"
    }
   ],
   "source": [
    "sorted(category_to_id.items())"
   ]
  },
  {
   "cell_type": "markdown",
   "id": "corporate-stomach",
   "metadata": {},
   "source": [
    "<b> Finding corelation between features(importance of words) and labels(categories) using chi - square analysis </b>"
   ]
  },
  {
   "cell_type": "code",
   "execution_count": 27,
   "id": "naughty-disabled",
   "metadata": {},
   "outputs": [
    {
     "name": "stdout",
     "output_type": "stream",
     "text": [
      " --> 'business' :\n",
      "\t Most correlated unigrams :\n",
      "\t\t -growth\n",
      "\t\t -bank\n",
      "\t\t -shares\n",
      "\t Most correlated bigrams :\n",
      "\t\t -stock market\n",
      "\t\t -economic growth\n",
      "\t\t -analysts said\n",
      " --> 'entertainment' :\n",
      "\t Most correlated unigrams :\n",
      "\t\t -singer\n",
      "\t\t -actor\n",
      "\t\t -film\n",
      "\t Most correlated bigrams :\n",
      "\t\t -won best\n",
      "\t\t -los angeles\n",
      "\t\t -box office\n",
      " --> 'politics' :\n",
      "\t Most correlated unigrams :\n",
      "\t\t -blair\n",
      "\t\t -election\n",
      "\t\t -labour\n",
      "\t Most correlated bigrams :\n",
      "\t\t -prime minister\n",
      "\t\t -tony blair\n",
      "\t\t -mr blair\n",
      " --> 'sport' :\n",
      "\t Most correlated unigrams :\n",
      "\t\t -match\n",
      "\t\t -coach\n",
      "\t\t -cup\n",
      "\t Most correlated bigrams :\n",
      "\t\t -grand slam\n",
      "\t\t -champions league\n",
      "\t\t -australian open\n",
      " --> 'tech' :\n",
      "\t Most correlated unigrams :\n",
      "\t\t -technology\n",
      "\t\t -software\n",
      "\t\t -users\n",
      "\t Most correlated bigrams :\n",
      "\t\t -anti virus\n",
      "\t\t -mobile phones\n",
      "\t\t -mobile phone\n"
     ]
    }
   ],
   "source": [
    "from sklearn.feature_selection import chi2\n",
    "\n",
    "N = 3 # printing only top 3 corelated words\n",
    "\n",
    "# finding words that are highly corelated to each other for each category\n",
    "\n",
    "for Category, category_id in sorted(category_to_id.items()) :\n",
    "    \n",
    "    # do chi analysis for all the items in this category\n",
    "    features_chi2 = chi2(features, labels == category_id)\n",
    "    \n",
    "    # sorting the indices of features_chi2[0] - the chi-squared stats of each feature\n",
    "    indices = np.argsort(features_chi2[0])\n",
    "    \n",
    "    # converting the indices to feature names\n",
    "    feature_names = np.array(tfidf.get_feature_names())[indices]\n",
    "    \n",
    "    # listing single word features\n",
    "    unigrams = [ v for v in feature_names if len(v.split(' ')) == 1]\n",
    "    \n",
    "    # listing 2-word features\n",
    "    bigrams = [ v for v in feature_names if len(v.split(' ')) == 2]\n",
    "    \n",
    "    print(\" --> '{}' :\".format(Category))\n",
    "    print(\"\\t Most correlated unigrams :\\n\\t\\t -{}\".format('\\n\\t\\t -'.join(unigrams[-N:])))\n",
    "    print(\"\\t Most correlated bigrams :\\n\\t\\t -{}\".format('\\n\\t\\t -'.join(bigrams[-N:])))"
   ]
  },
  {
   "cell_type": "code",
   "execution_count": 28,
   "id": "dressed-brighton",
   "metadata": {},
   "outputs": [
    {
     "data": {
      "text/plain": [
       "(array([0.13345481, 0.01563765, 0.00108776, ..., 0.00812363, 0.15434356,\n",
       "        0.120306  ]),\n",
       " array([0.71487652, 0.9004835 , 0.97368962, ..., 0.92818297, 0.69441858,\n",
       "        0.72870284]))"
      ]
     },
     "execution_count": 28,
     "metadata": {},
     "output_type": "execute_result"
    }
   ],
   "source": [
    "features_chi2"
   ]
  },
  {
   "cell_type": "markdown",
   "id": "three-transparency",
   "metadata": {},
   "source": [
    "<b> Sampling a subset of dataset using t-SNE. Also t-SNE is computationally expensive so using 30% of the dataset </b>"
   ]
  },
  {
   "cell_type": "code",
   "execution_count": 31,
   "id": "ceramic-notice",
   "metadata": {},
   "outputs": [],
   "source": [
    "from sklearn.manifold import TSNE\n",
    "\n",
    "sample_size = int(len(features) * 0.3)\n",
    "np.random.seed(0)\n",
    "\n",
    "# randomly selecting 30% of the sample\n",
    "indices = np.random.choice(range(len(features)), size = sample_size, replace= False)\n",
    "\n",
    "# printing array of all projected features of 30% of the randomly chosen samples\n",
    "projected_features = TSNE(n_components = 2, random_state = 0).fit_transform(features[indices])"
   ]
  },
  {
   "cell_type": "code",
   "execution_count": 32,
   "id": "appointed-count",
   "metadata": {},
   "outputs": [
    {
     "data": {
      "text/plain": [
       "array([[-17.409828  , -20.436989  ],\n",
       "       [ -9.56882   , -11.314312  ],\n",
       "       [-17.156994  ,  -6.452465  ],\n",
       "       [-10.862223  , -21.660397  ],\n",
       "       [-19.501608  ,   4.6090965 ],\n",
       "       [-11.990335  , -16.382895  ],\n",
       "       [-27.134926  ,  -2.8496113 ],\n",
       "       [ -9.668595  , -17.357132  ],\n",
       "       [  8.465661  ,  -9.051764  ],\n",
       "       [-19.876314  ,  -9.820042  ],\n",
       "       [  2.6430216 ,   3.9847393 ],\n",
       "       [-15.166494  , -10.5767145 ],\n",
       "       [ 15.052534  , -22.136509  ],\n",
       "       [-29.180244  , -15.261823  ],\n",
       "       [-11.231472  , -24.399818  ],\n",
       "       [-13.417371  , -11.908246  ],\n",
       "       [ -8.409627  , -11.635613  ],\n",
       "       [-11.572334  , -18.307085  ],\n",
       "       [-17.998095  , -14.864076  ],\n",
       "       [-26.832064  ,  -5.992347  ],\n",
       "       [ -0.91015923, -20.449903  ],\n",
       "       [-23.755339  , -14.732829  ],\n",
       "       [-17.284416  ,  -6.835661  ],\n",
       "       [-22.186396  , -10.912631  ],\n",
       "       [-11.207357  , -14.555125  ],\n",
       "       [-25.065447  , -10.098723  ],\n",
       "       [-22.816729  , -12.928076  ],\n",
       "       [-27.67401   , -10.1719885 ],\n",
       "       [ -9.118339  , -11.99525   ],\n",
       "       [-27.955767  , -10.499625  ],\n",
       "       [-26.545292  , -16.161661  ],\n",
       "       [-24.027119  , -16.473694  ],\n",
       "       [-14.79516   , -15.272359  ],\n",
       "       [ -6.3705096 ,  -7.112831  ],\n",
       "       [-14.128602  , -10.302936  ],\n",
       "       [ -9.533747  , -18.610142  ],\n",
       "       [-17.766403  , -18.052103  ],\n",
       "       [-16.84345   ,  -4.4271884 ],\n",
       "       [-11.293458  ,  -6.5615234 ],\n",
       "       [-10.506294  , -23.221987  ],\n",
       "       [-15.011385  ,  -3.6810048 ],\n",
       "       [-10.639915  , -13.557691  ],\n",
       "       [-12.014518  , -17.190329  ],\n",
       "       [-13.971309  ,  -4.182933  ],\n",
       "       [-25.494864  ,  -4.9497595 ],\n",
       "       [-27.915266  , -14.56043   ],\n",
       "       [-23.54696   , -20.41746   ],\n",
       "       [-15.415271  , -14.031589  ],\n",
       "       [ -6.3032465 ,  -7.0108976 ],\n",
       "       [-12.148467  , -25.222383  ],\n",
       "       [-15.740036  ,  -7.494536  ],\n",
       "       [-20.210625  , -13.451053  ],\n",
       "       [-24.854723  , -12.600436  ],\n",
       "       [ -2.8075676 , -15.790843  ],\n",
       "       [-23.797077  , -21.474707  ],\n",
       "       [-18.6075    , -10.536056  ],\n",
       "       [-10.798013  ,  -5.128354  ],\n",
       "       [-24.066378  , -16.331705  ],\n",
       "       [-12.710615  , -24.530416  ],\n",
       "       [  5.8064203 ,  11.155043  ],\n",
       "       [-23.962528  , -22.120123  ],\n",
       "       [-27.289322  ,  -6.720196  ],\n",
       "       [-20.56851   ,   4.343873  ],\n",
       "       [-18.200233  ,  -5.644349  ],\n",
       "       [-12.961266  , -22.224607  ],\n",
       "       [-20.417652  , -17.757792  ],\n",
       "       [-14.251963  ,  -5.1104255 ],\n",
       "       [-17.557909  , -20.306105  ],\n",
       "       [ -7.31841   , -15.609733  ],\n",
       "       [-22.45034   ,  -5.631934  ],\n",
       "       [-28.58256   ,  -4.901768  ],\n",
       "       [-25.14362   ,  -7.95412   ],\n",
       "       [-27.86038   , -17.526392  ],\n",
       "       [-28.206268  ,  -9.368433  ],\n",
       "       [-21.77698   , -17.196274  ],\n",
       "       [-27.263964  , -13.890188  ],\n",
       "       [-13.259843  , -16.125927  ],\n",
       "       [-28.56485   , -17.196064  ],\n",
       "       [-20.395626  , -13.975158  ],\n",
       "       [-19.20463   , -20.195503  ],\n",
       "       [ -3.1221137 , -11.877743  ],\n",
       "       [-11.75413   ,  -9.128307  ],\n",
       "       [ -8.907274  , -16.56575   ],\n",
       "       [-10.164448  ,  -4.1474376 ],\n",
       "       [-15.054415  ,  -5.537093  ],\n",
       "       [-17.066496  ,  -9.248455  ],\n",
       "       [-16.2962    , -22.28306   ],\n",
       "       [ -6.9397926 ,  -9.657516  ],\n",
       "       [-19.767227  , -18.181358  ],\n",
       "       [-17.893063  , -10.634359  ],\n",
       "       [  8.175356  ,  -9.073679  ],\n",
       "       [-24.549088  , -13.045889  ],\n",
       "       [-17.425495  , -12.520438  ],\n",
       "       [-18.223188  , -14.978001  ],\n",
       "       [-10.478902  , -22.389202  ],\n",
       "       [-29.765429  ,  -4.5992327 ],\n",
       "       [-28.82487   ,  -6.6644073 ],\n",
       "       [-13.227771  ,  -9.51348   ],\n",
       "       [-27.321543  ,  -2.9115357 ],\n",
       "       [ -0.7873483 ,   8.046617  ],\n",
       "       [-22.850811  ,  -5.6954923 ],\n",
       "       [-14.511301  , -19.545353  ],\n",
       "       [-12.932711  , -19.588549  ]], dtype=float32)"
      ]
     },
     "execution_count": 32,
     "metadata": {},
     "output_type": "execute_result"
    }
   ],
   "source": [
    "c_id = 0 # choosing a category\n",
    "projected_features[(labels[indices] == c_id).values]"
   ]
  },
  {
   "cell_type": "markdown",
   "id": "floppy-point",
   "metadata": {},
   "source": [
    "<b> Plotting the tf-idf feature vector for each article </b>"
   ]
  },
  {
   "cell_type": "code",
   "execution_count": 33,
   "id": "moved-nature",
   "metadata": {},
   "outputs": [
    {
     "data": {
      "image/png": "[encoded data removed]",
      "text/plain": [
       "<Figure size 432x288 with 1 Axes>"
      ]
     },
     "metadata": {
      "needs_background": "light"
     },
     "output_type": "display_data"
    }
   ],
   "source": [
    "colors = ['purple', 'green', 'orange', 'red', 'blue']\n",
    "\n",
    "for category, category_id in sorted(category_to_id.items()) :\n",
    "    points = projected_features[(labels[indices] == category_id).values]\n",
    "    plt.scatter(points[:, 0], points[:, 1], s = 30, color = colors[category_id], label=category)\n",
    "    plt.legend()"
   ]
  },
  {
   "cell_type": "markdown",
   "id": "civic-walter",
   "metadata": {},
   "source": [
    "<b> Training the model </b>\n"
   ]
  },
  {
   "cell_type": "code",
   "execution_count": 36,
   "id": "honey-copper",
   "metadata": {},
   "outputs": [],
   "source": [
    "from sklearn.linear_model import LogisticRegression\n",
    "from sklearn.ensemble import RandomForestClassifier\n",
    "from sklearn.naive_bayes import MultinomialNB\n",
    "from sklearn.model_selection import cross_val_score\n",
    "\n",
    "models = [RandomForestClassifier(n_estimators = 200, max_depth = 3, random_state = 0), MultinomialNB, LogisticRegression(random_state = 0)]"
   ]
  },
  {
   "cell_type": "code",
   "execution_count": 37,
   "id": "handy-terrace",
   "metadata": {},
   "outputs": [],
   "source": [
    "# CV = 5  # Cross Validate with 5 different folds of 20% data ( 80-20 split with 5 folds )\n",
    "\n",
    "# #Create a data frame that will store the results for all 5 trials of the 3 different models\n",
    "# cv_df = pd.DataFrame(index=range(CV * len(models)))\n",
    "# entries = [] # Initially all entries are empty"
   ]
  },
  {
   "cell_type": "code",
   "execution_count": 41,
   "id": "mexican-flush",
   "metadata": {},
   "outputs": [],
   "source": [
    "# #For each Algorithm \n",
    "# for model in models:\n",
    "#     model_name = model.__class__.__name__\n",
    "#     # create 5 models with different 20% test sets, and store their accuracies\n",
    "#     accuracies = cross_val_score(model, features, labels, scoring='accuracy', cv=CV)\n",
    "#     # Append all 5 accuracies into the entries list ( after all 3 models are run, there will be 3x5 = 15 entries)\n",
    "#     for fold_idx, accuracy in enumerate(accuracies):\n",
    "#         entries.append((model_name, fold_idx, accuracy))"
   ]
  },
  {
   "cell_type": "code",
   "execution_count": 45,
   "id": "prescription-drawing",
   "metadata": {},
   "outputs": [],
   "source": [
    "from sklearn.model_selection import train_test_split\n",
    "\n",
    "model = LogisticRegression(random_state = 0)\n",
    "\n",
    "X_train, X_test, y_train, y_test, indices_train, indices_test = train_test_split(features, labels, df.index, test_size = 0.33, random_state =0)\n",
    "\n",
    "model.fit(X_train, y_train)\n",
    "\n",
    "y_pred_prob = model.predict_proba(X_test)\n",
    "y_pred = model.predict(X_test)"
   ]
  },
  {
   "cell_type": "markdown",
   "id": "continued-dynamics",
   "metadata": {},
   "source": [
    "<b> Analysing predictions </b>"
   ]
  },
  {
   "cell_type": "code",
   "execution_count": 49,
   "id": "civilian-blast",
   "metadata": {},
   "outputs": [
    {
     "data": {
      "text/plain": [
       "Text(0.5, 15.0, 'Predicted')"
      ]
     },
     "execution_count": 49,
     "metadata": {},
     "output_type": "execute_result"
    },
    {
     "data": {
      "image/png": "[encoded data removed]",
      "text/plain": [
       "<Figure size 432x288 with 2 Axes>"
      ]
     },
     "metadata": {
      "needs_background": "light"
     },
     "output_type": "display_data"
    }
   ],
   "source": [
    "from sklearn.metrics import confusion_matrix\n",
    "import seaborn as sns\n",
    "\n",
    "conf_mat = confusion_matrix(y_test, y_pred)\n",
    "sns.heatmap(conf_mat, annot=True, fmt='d', xticklabels=unique_category_df.Category.values, yticklabels=unique_category_df.Category.values)\n",
    "plt.ylabel('Actual')\n",
    "plt.xlabel('Predicted')\n"
   ]
  },
  {
   "cell_type": "code",
   "execution_count": 50,
   "id": "announced-census",
   "metadata": {},
   "outputs": [
    {
     "data": {
      "text/plain": [
       "LogisticRegression(random_state=0)"
      ]
     },
     "execution_count": 50,
     "metadata": {},
     "output_type": "execute_result"
    }
   ],
   "source": [
    "model.fit(features, labels)"
   ]
  },
  {
   "cell_type": "code",
   "execution_count": 52,
   "id": "still-sunset",
   "metadata": {},
   "outputs": [
    {
     "data": {
      "text/plain": [
       "array([[ 0.46799432,  0.01813872, -0.0715333 , ..., -0.03318298,\n",
       "         0.0068823 , -0.02849203],\n",
       "       [-0.02957523, -0.04366737, -0.01371468, ...,  0.00362675,\n",
       "        -0.02877942, -0.02070068],\n",
       "       [ 0.05006025, -0.05159908, -0.04674601, ..., -0.00638322,\n",
       "        -0.03112648, -0.02362395],\n",
       "       [-0.61687406, -0.04152046, -0.05352312, ...,  0.08450437,\n",
       "         0.08574049,  0.09981232],\n",
       "       [ 0.12839471,  0.11864819,  0.18551711, ..., -0.04856492,\n",
       "        -0.03271689, -0.02699566]])"
      ]
     },
     "execution_count": 52,
     "metadata": {},
     "output_type": "execute_result"
    }
   ],
   "source": [
    "model.coef_ # coef contains the importance of each feature for each category"
   ]
  },
  {
   "cell_type": "code",
   "execution_count": 55,
   "id": "global-magnet",
   "metadata": {},
   "outputs": [
    {
     "name": "stdout",
     "output_type": "stream",
     "text": [
      " --> 'business' :\n",
      "\t Top unigrams :\n",
      "\t\t -firm\n",
      "\t\t -bank\n",
      "\t\t -company\n",
      "\t\t -shares\n",
      "\t\t -market\n",
      "\t Top bigrams :\n",
      "\t\t -chief executive\n",
      "\t\t -analysts said\n",
      "\t\t -stock market\n",
      "\t\t -economic growth\n",
      "\t\t -oil prices\n",
      " --> 'entertainment' :\n",
      "\t Top unigrams :\n",
      "\t\t -film\n",
      "\t\t -music\n",
      "\t\t -singer\n",
      "\t\t -star\n",
      "\t\t -band\n",
      "\t Top bigrams :\n",
      "\t\t -box office\n",
      "\t\t -los angeles\n",
      "\t\t -film festival\n",
      "\t\t -new york\n",
      "\t\t -big brother\n",
      " --> 'politics' :\n",
      "\t Top unigrams :\n",
      "\t\t -labour\n",
      "\t\t -mr\n",
      "\t\t -party\n",
      "\t\t -election\n",
      "\t\t -government\n",
      "\t Top bigrams :\n",
      "\t\t -mr blair\n",
      "\t\t -prime minister\n",
      "\t\t -tony blair\n",
      "\t\t -general election\n",
      "\t\t -mr brown\n",
      " --> 'sport' :\n",
      "\t Top unigrams :\n",
      "\t\t -match\n",
      "\t\t -win\n",
      "\t\t -game\n",
      "\t\t -coach\n",
      "\t\t -cup\n",
      "\t Top bigrams :\n",
      "\t\t -year old\n",
      "\t\t -australian open\n",
      "\t\t -champions league\n",
      "\t\t -world cup\n",
      "\t\t -grand slam\n",
      " --> 'tech' :\n",
      "\t Top unigrams :\n",
      "\t\t -users\n",
      "\t\t -software\n",
      "\t\t -computer\n",
      "\t\t -technology\n",
      "\t\t -online\n",
      "\t Top bigrams :\n",
      "\t\t -said mr\n",
      "\t\t -news website\n",
      "\t\t -bbc news\n",
      "\t\t -mobile phone\n",
      "\t\t -mobile phones\n"
     ]
    }
   ],
   "source": [
    "N = 5 \n",
    "\n",
    "for Category, category_id in sorted(category_to_id.items()) :\n",
    "    \n",
    "    indices = np.argsort(model.coef_[category_id])\n",
    "    \n",
    "    feature_names = np.array(tfidf.get_feature_names())[indices]\n",
    "    \n",
    "    unigrams = [ v for v in reversed(feature_names) if len(v.split(' ')) == 1]\n",
    "    \n",
    "    bigrams = [ v for v in reversed(feature_names) if len(v.split(' ')) == 2]\n",
    "    \n",
    "    print(\" --> '{}' :\".format(Category))\n",
    "    print(\"\\t Top unigrams :\\n\\t\\t -{}\".format('\\n\\t\\t -'.join(unigrams[:N])))\n",
    "    print(\"\\t Top bigrams :\\n\\t\\t -{}\".format('\\n\\t\\t -'.join(bigrams[:N])))"
   ]
  },
  {
   "cell_type": "code",
   "execution_count": 61,
   "id": "altered-cooper",
   "metadata": {},
   "outputs": [
    {
     "name": "stdout",
     "output_type": "stream",
     "text": [
      "\"Hooli stock price soared after a dip in PiedPiper revenue growth.\"\n",
      "  - Predicted as: 'business'\n",
      "\n",
      "\"Captain Tsubasa scores a magnificent goal for the Japanese team.\"\n",
      "  - Predicted as: 'sport'\n",
      "\n",
      "\"Merryweather mercenaries are sent on another mission, as government oversight groups call for new sanctions.\"\n",
      "  - Predicted as: 'business'\n",
      "\n",
      "\"Beyoncé releases a new album, tops the charts in all of south-east Asia!\"\n",
      "  - Predicted as: 'entertainment'\n",
      "\n",
      "\"You won't guess what the latest trend in data analysis is!\"\n",
      "  - Predicted as: 'tech'\n",
      "\n"
     ]
    }
   ],
   "source": [
    "texts = [\"Hooli stock price soared after a dip in PiedPiper revenue growth.\",\n",
    "         \"Captain Tsubasa scores a magnificent goal for the Japanese team.\",\n",
    "         \"Merryweather mercenaries are sent on another mission, as government oversight groups call for new sanctions.\",\n",
    "         \"Beyoncé releases a new album, tops the charts in all of south-east Asia!\",\n",
    "         \"You won't guess what the latest trend in data analysis is!\"]\n",
    "\n",
    "text_features = tfidf.transform(texts)\n",
    "predictions = model.predict(text_features)\n",
    "for text, predicted in zip(texts, predictions):\n",
    "    print('\"{}\"'.format(text))\n",
    "    print(\"  - Predicted as: '{}'\".format(id_to_category[predicted]))\n",
    "    print(\"\")"
   ]
  },
  {
   "cell_type": "code",
   "execution_count": 63,
   "id": "russian-virgin",
   "metadata": {},
   "outputs": [],
   "source": [
    "import os\n",
    "\n",
    "test_df = pd.read_csv(\"BBC News Test.csv\")"
   ]
  },
  {
   "cell_type": "code",
   "execution_count": 64,
   "id": "periodic-treat",
   "metadata": {},
   "outputs": [
    {
     "data": {
      "text/plain": [
       "array([3, 1, 3, 0, 3, 3, 2, 2, 4, 0, 0, 1, 2, 1, 4, 3, 2, 1, 4, 4, 0, 2,\n",
       "       3, 0, 2, 3, 0, 3, 3, 0, 2, 1, 0, 0, 3, 3, 3, 0, 4, 4, 1, 2, 4, 1,\n",
       "       3, 1, 4, 0, 2, 0, 2, 0, 0, 0, 1, 2, 1, 4, 3, 1, 3, 4, 1, 2, 0, 4,\n",
       "       3, 1, 3, 3, 0, 3, 0, 2, 1, 3, 1, 1, 1, 4, 2, 3, 4, 4, 0, 4, 0, 4,\n",
       "       0, 1, 0, 2, 3, 1, 3, 3, 3, 3, 3, 3, 2, 3, 2, 4, 0, 3, 2, 3, 2, 4,\n",
       "       3, 0, 4, 3, 2, 3, 2, 3, 2, 0, 4, 0, 4, 4, 1, 3, 0, 4, 0, 4, 0, 2,\n",
       "       2, 1, 0, 0, 2, 1, 4, 3, 0, 1, 3, 4, 2, 3, 3, 4, 4, 1, 0, 1, 2, 4,\n",
       "       3, 3, 3, 3, 4, 1, 0, 1, 0, 1, 0, 1, 4, 1, 1, 2, 0, 2, 0, 0, 4, 2,\n",
       "       1, 0, 0, 1, 3, 2, 3, 2, 1, 1, 2, 0, 2, 4, 2, 0, 4, 3, 1, 1, 0, 1,\n",
       "       2, 0, 3, 2, 0, 4, 0, 0, 3, 1, 0, 3, 4, 4, 3, 4, 3, 1, 2, 4, 3, 4,\n",
       "       3, 4, 2, 0, 1, 4, 0, 2, 0, 1, 0, 3, 2, 2, 0, 2, 3, 0, 4, 2, 3, 2,\n",
       "       0, 3, 1, 0, 2, 0, 2, 0, 0, 3, 1, 2, 4, 1, 4, 1, 3, 3, 1, 3, 3, 3,\n",
       "       4, 3, 2, 1, 0, 3, 0, 3, 0, 3, 4, 0, 0, 4, 2, 0, 3, 3, 1, 3, 3, 4,\n",
       "       0, 3, 1, 2, 4, 0, 0, 2, 3, 4, 2, 0, 3, 3, 1, 4, 3, 0, 1, 0, 3, 2,\n",
       "       2, 4, 2, 4, 2, 0, 2, 1, 0, 3, 1, 4, 2, 3, 2, 2, 1, 2, 3, 1, 2, 1,\n",
       "       1, 4, 0, 1, 2, 0, 2, 3, 1, 4, 4, 0, 3, 1, 1, 4, 1, 0, 3, 4, 1, 0,\n",
       "       2, 1, 1, 2, 2, 3, 0, 1, 3, 2, 2, 0, 1, 3, 2, 0, 2, 2, 1, 4, 0, 0,\n",
       "       3, 3, 3, 1, 3, 2, 1, 1, 2, 0, 3, 3, 4, 4, 3, 1, 1, 3, 1, 4, 2, 1,\n",
       "       3, 0, 2, 4, 0, 1, 3, 2, 0, 0, 2, 1, 3, 4, 0, 1, 0, 1, 3, 3, 2, 0,\n",
       "       1, 3, 2, 0, 0, 1, 2, 1, 0, 2, 0, 4, 0, 4, 2, 4, 3, 0, 2, 0, 3, 4,\n",
       "       0, 4, 4, 3, 1, 4, 0, 0, 2, 4, 2, 2, 3, 0, 0, 2, 4, 4, 0, 0, 3, 2,\n",
       "       1, 0, 2, 0, 3, 3, 2, 3, 1, 0, 2, 3, 2, 1, 0, 2, 1, 2, 2, 4, 1, 3,\n",
       "       3, 2, 0, 1, 2, 3, 3, 4, 0, 4, 4, 0, 2, 3, 0, 1, 1, 0, 2, 3, 0, 3,\n",
       "       0, 2, 0, 3, 2, 1, 3, 2, 0, 1, 2, 3, 2, 4, 3, 2, 0, 0, 0, 1, 2, 2,\n",
       "       3, 0, 1, 1, 1, 3, 1, 2, 0, 0, 3, 4, 2, 0, 1, 1, 3, 1, 0, 3, 0, 0,\n",
       "       0, 2, 2, 4, 4, 4, 2, 1, 1, 2, 4, 0, 3, 3, 2, 4, 2, 3, 0, 0, 0, 4,\n",
       "       1, 3, 0, 2, 2, 1, 2, 3, 2, 0, 1, 0, 3, 3, 1, 3, 4, 1, 4, 1, 3, 2,\n",
       "       0, 1, 2, 4, 4, 2, 0, 0, 1, 0, 0, 0, 3, 4, 0, 3, 0, 3, 1, 0, 2, 3,\n",
       "       0, 3, 3, 4, 2, 1, 3, 0, 3, 0, 3, 3, 2, 1, 0, 1, 0, 3, 1, 0, 4, 0,\n",
       "       4, 3, 1, 0, 0, 0, 2, 3, 4, 1, 0, 3, 4, 0, 4, 0, 2, 3, 3, 0, 1, 3,\n",
       "       0, 0, 0, 0, 0, 4, 1, 3, 2, 1, 2, 1, 3, 1, 4, 0, 0, 4, 2, 3, 3, 3,\n",
       "       4, 1, 2, 4, 3, 3, 2, 1, 2, 4, 3, 4, 3, 1, 1, 3, 3, 0, 1, 4, 0, 1,\n",
       "       0, 0, 3, 4, 2, 4, 0, 2, 0, 2, 3, 1, 1, 2, 4, 0, 1, 4, 4, 2, 0, 0,\n",
       "       2, 2, 1, 3, 0, 4, 2, 0, 2], dtype=int64)"
      ]
     },
     "execution_count": 64,
     "metadata": {},
     "output_type": "execute_result"
    }
   ],
   "source": [
    "test_features = tfidf.transform(test_df.Text.tolist())\n",
    "\n",
    "Y_pred = model.predict(test_features)\n",
    "\n",
    "Y_pred"
   ]
  },
  {
   "cell_type": "code",
   "execution_count": 68,
   "id": "clean-invasion",
   "metadata": {},
   "outputs": [
    {
     "name": "stdout",
     "output_type": "stream",
     "text": [
      "              precision    recall  f1-score   support\n",
      "\n",
      "           0       0.96      0.97      0.97       113\n",
      "           1       0.99      0.95      0.97        83\n",
      "           2       0.99      0.96      0.97        90\n",
      "           3       0.97      1.00      0.99       107\n",
      "           4       0.97      0.99      0.98        99\n",
      "\n",
      "    accuracy                           0.98       492\n",
      "   macro avg       0.98      0.97      0.98       492\n",
      "weighted avg       0.98      0.98      0.98       492\n",
      "\n",
      "[[110   1   0   2   0]\n",
      " [  2  79   0   0   2]\n",
      " [  2   0  86   1   1]\n",
      " [  0   0   0 107   0]\n",
      " [  0   0   1   0  98]]\n"
     ]
    }
   ],
   "source": [
    "from sklearn.metrics import classification_report, confusion_matrix\n",
    "print(classification_report(y_test, y_pred))\n",
    "print(confusion_matrix(y_test, y_pred))"
   ]
  },
  {
   "cell_type": "code",
   "execution_count": null,
   "id": "innocent-stroke",
   "metadata": {},
   "outputs": [],
   "source": []
  }
 ],
 "metadata": {
  "kernelspec": {
   "display_name": "Python 3",
   "language": "python",
   "name": "python3"
  },
  "language_info": {
   "codemirror_mode": {
    "name": "ipython",
    "version": 3
   },
   "file_extension": ".py",
   "mimetype": "text/x-python",
   "name": "python",
   "nbconvert_exporter": "python",
   "pygments_lexer": "ipython3",
   "version": "3.8.5"
  }
 },
 "nbformat": 4,
 "nbformat_minor": 5
}
